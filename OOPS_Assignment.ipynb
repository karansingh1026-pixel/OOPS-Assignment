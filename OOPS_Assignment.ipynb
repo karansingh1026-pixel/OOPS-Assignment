{
  "nbformat": 4,
  "nbformat_minor": 0,
  "metadata": {
    "colab": {
      "provenance": []
    },
    "kernelspec": {
      "name": "python3",
      "display_name": "Python 3"
    },
    "language_info": {
      "name": "python"
    }
  },
  "cells": [
    {
      "cell_type": "markdown",
      "source": [
        " Question1. What is Object-Oriented Programming (OOP) ?\n",
        "\n",
        "    Object-Oriented Programming (OOP) is a way of writing computer programs using objects, which are like real-world things. These objects have data (called attributes) and actions (called methods). It’s like creating your own mini-world inside the program.\n",
        "    4 Pillars of OOP (with easy examples):\n",
        "    1.Class and Object\n",
        "    Class: A blueprint (like a recipe).\n",
        "    Object: The real item made from the blueprint.\n",
        "\n",
        "    Example"
      ],
      "metadata": {
        "id": "_yGp7w832-iN"
      }
    },
    {
      "cell_type": "code",
      "source": [
        "class Dog:\n",
        "    def __init__(self, name, breed):\n",
        "        self.name = name\n",
        "        self.breed = breed\n",
        "\n",
        "    def bark(self):\n",
        "        print(f\"{self.name} says Woof!\")\n",
        "\n",
        "# Creating objects\n",
        "dog1 = Dog(\"Tommy\", \"Labrador\")\n",
        "dog2 = Dog(\"Bruno\", \"Beagle\")\n",
        "\n",
        "dog1.bark()  # Tommy says Woof!\n",
        "dog2.bark()  # Bruno says Woof!\n"
      ],
      "metadata": {
        "id": "yofNKGRW4x1s"
      },
      "execution_count": null,
      "outputs": []
    },
    {
      "cell_type": "markdown",
      "source": [
        "    2.Encapsulation\n",
        "    Hiding the internal details and showing only what's needed.\n",
        "    Protects data using private variables.\n",
        "\n",
        "    Example"
      ],
      "metadata": {
        "id": "DKTsCyUt4-8u"
      }
    },
    {
      "cell_type": "code",
      "source": [
        "class BankAccount:\n",
        "    def __init__(self, balance):\n",
        "        self.__balance = balance  # private\n",
        "\n",
        "    def deposit(self, amount):\n",
        "        self.__balance += amount\n",
        "\n",
        "    def get_balance(self):\n",
        "        return self.__balance\n",
        "\n",
        "account = BankAccount(1000)\n",
        "account.deposit(500)\n",
        "print(account.get_balance())  # 1500\n"
      ],
      "metadata": {
        "id": "U4rU_d1e5Ngg"
      },
      "execution_count": null,
      "outputs": []
    },
    {
      "cell_type": "markdown",
      "source": [
        "    3.Inheritance\n",
        "    One class inherits features from another.\n",
        "\n",
        "    Example:\n"
      ],
      "metadata": {
        "id": "xErNZ6G65ZLs"
      }
    },
    {
      "cell_type": "code",
      "source": [
        "class Animal:\n",
        "    def speak(self):\n",
        "        print(\"Animal speaks\")\n",
        "\n",
        "class Cat(Animal):  # Inherits Animal\n",
        "    def speak(self):\n",
        "        print(\"Meow!\")\n",
        "\n",
        "kitty = Cat()\n",
        "kitty.speak()  # Meow!\n"
      ],
      "metadata": {
        "id": "l0OxjhU_5ljJ"
      },
      "execution_count": null,
      "outputs": []
    },
    {
      "cell_type": "markdown",
      "source": [
        "    4.Polymorphism\n",
        "    Same method name behaves differently based on context.\n",
        "\n",
        "    Example:"
      ],
      "metadata": {
        "id": "5T8EBsBB5yw9"
      }
    },
    {
      "cell_type": "code",
      "source": [
        "class Bird:\n",
        "    def fly(self):\n",
        "        print(\"Bird is flying\")\n",
        "\n",
        "class Airplane:\n",
        "    def fly(self):\n",
        "        print(\"Airplane is flying\")\n",
        "\n",
        "def start_flying(thing):\n",
        "    thing.fly()\n",
        "\n",
        "start_flying(Bird())      # Bird is flying\n",
        "start_flying(Airplane())  # Airplane is flying\n"
      ],
      "metadata": {
        "id": "Y2dFnRhj566J"
      },
      "execution_count": null,
      "outputs": []
    },
    {
      "cell_type": "markdown",
      "source": [],
      "metadata": {
        "id": "iJ2LH9To5qAw"
      }
    },
    {
      "cell_type": "markdown",
      "source": [
        " Question 2. What is a class in OOP ?\n",
        "\n",
        "    A class is like a blueprint or a template used to create objects.\n",
        "    Just like a blueprint of a house tells you how to build houses (but is not a house itself),a class defines what attributes (data) and methods (functions) the objects will have.\n",
        "\n",
        "    Example:\n",
        "    Class = Dog Blueprint\n",
        "    Object = Tommy the Labrador, Bruno the Beagle"
      ],
      "metadata": {
        "id": "5myA23Pr5_z-"
      }
    },
    {
      "cell_type": "code",
      "source": [
        "# Creating a class\n",
        "class Dog:\n",
        "    # Constructor: runs when object is created\n",
        "    def __init__(self, name, breed):\n",
        "        self.name = name    # attribute\n",
        "        self.breed = breed  # attribute\n",
        "\n",
        "    # Method (function inside a class)\n",
        "    def bark(self):\n",
        "        print(f\"{self.name} says Woof!\")\n",
        "\n",
        "# Creating objects from the class\n",
        "dog1 = Dog(\"Tommy\", \"Labrador\")\n",
        "dog2 = Dog(\"Bruno\", \"Beagle\")\n",
        "\n",
        "# Calling methods\n",
        "dog1.bark()   # Output: Tommy says Woof!\n",
        "dog2.bark()   # Output: Bruno says Woof!\n"
      ],
      "metadata": {
        "id": "JVSvtWt-7AcI"
      },
      "execution_count": null,
      "outputs": []
    },
    {
      "cell_type": "markdown",
      "source": [
        "Question 3. What is an object in OOP ?\n",
        "\n",
        "    An object is a real-world instance of a class.\n",
        "    Think of a class as a blueprint, and an object as the actual thing built using that blueprint.\n",
        "\n",
        "    Real-Life Analogy:\n",
        "    Class = Blueprint of a house\n",
        "    Object = Actual houses built using that blueprint (House 1, House 2...)"
      ],
      "metadata": {
        "id": "QX6A2RHu7Doc"
      }
    },
    {
      "cell_type": "code",
      "source": [
        "# Class definition\n",
        "class Car:\n",
        "    def __init__(self, brand, color):\n",
        "        self.brand = brand\n",
        "        self.color = color\n",
        "\n",
        "    def drive(self):\n",
        "        print(f\"{self.color} {self.brand} is driving!\")\n",
        "\n",
        "# Creating objects (instances of Car class)\n",
        "car1 = Car(\"Toyota\", \"Red\")\n",
        "car2 = Car(\"Honda\", \"Blue\")\n",
        "\n",
        "# Using the objects\n",
        "car1.drive()   # Output: Red Toyota is driving!\n",
        "car2.drive()   # Output: Blue Honda is driving!\n"
      ],
      "metadata": {
        "id": "r_umeHPx7lyX"
      },
      "execution_count": null,
      "outputs": []
    },
    {
      "cell_type": "markdown",
      "source": [
        " Question 4. What is the difference between abstraction and encapsulation ?\n",
        "\n",
        "    Abstraction – \"Show only what's needed\" . It means hiding complex details and showing only the useful parts.\n",
        "\n",
        "    Example"
      ],
      "metadata": {
        "id": "zXsl_snf7skN"
      }
    },
    {
      "cell_type": "code",
      "source": [
        "class CoffeeMachine:\n",
        "    def make_coffee(self):\n",
        "        self.__boil_water()\n",
        "        self.__brew()\n",
        "        print(\"Here is your coffee!\")\n",
        "\n",
        "    def __boil_water(self):\n",
        "        print(\"Boiling water...\")\n",
        "\n",
        "    def __brew(self):\n",
        "        print(\"Brewing coffee...\")\n",
        "\n",
        "coffee = CoffeeMachine()\n",
        "coffee.make_coffee()\n",
        "# Output:\n",
        "# Boiling water...\n",
        "# Brewing coffee...\n",
        "# Here is your coffee!\n"
      ],
      "metadata": {
        "id": "6Eb10eKK8nJH"
      },
      "execution_count": null,
      "outputs": []
    },
    {
      "cell_type": "markdown",
      "source": [
        "    You (the user) only call make_coffee(). You don’t need to know how boiling or brewing works.\n",
        "\n",
        "    That’s abstraction.\n",
        "\n",
        "    2.Encapsulation – \"Protect the data\" . It means keeping data safe by restricting direct access using private variables/methods.\n",
        "\n",
        "    Example:"
      ],
      "metadata": {
        "id": "SR3tl1Ej8tgO"
      }
    },
    {
      "cell_type": "code",
      "source": [
        "class BankAccount:\n",
        "    def __init__(self):\n",
        "        self.__balance = 0  # private variable\n",
        "\n",
        "    def deposit(self, amount):\n",
        "        if amount > 0:\n",
        "            self.__balance += amount\n",
        "\n",
        "    def get_balance(self):\n",
        "        return self.__balance\n",
        "\n",
        "account = BankAccount()\n",
        "account.deposit(1000)\n",
        "print(account.get_balance())  # Output: 1000\n",
        "\n",
        "# account.__balance = 5000   ❌ Can't access directly – it's protected\n"
      ],
      "metadata": {
        "id": "wTFsppMx9GQE"
      },
      "execution_count": null,
      "outputs": []
    },
    {
      "cell_type": "markdown",
      "source": [
        "    __balance is hidden from the outside. You can only change it using deposit() and get_balance().\n",
        "\n",
        "    That’s encapsulation."
      ],
      "metadata": {
        "id": "urZPh7WB9Mlq"
      }
    },
    {
      "cell_type": "markdown",
      "source": [
        "| Feature               | **Abstraction**                                             | **Encapsulation**                              |\n",
        "| --------------------- | ----------------------------------------------------------- | ---------------------------------------------- |\n",
        "| **Meaning**           | Hiding **unnecessary details**, showing only **essentials** | Hiding **internal data** using access controls |\n",
        "| **Focuses on**        | **What** an object does                                     | **How** data is protected                      |\n",
        "| **Real-life Example** | You use a TV remote without knowing how it works inside     | The TV remote hides its complex circuit inside |\n",
        "| **In Code**           | Using classes/methods to show only important parts          | Using private variables & methods              |\n",
        "| **Goal**              | Simplicity for the user                                     | Security for the data                          |\n"
      ],
      "metadata": {
        "id": "yOSDn22D9zl5"
      }
    },
    {
      "cell_type": "markdown",
      "source": [
        "Question 5. What are dunder methods in Python ?\n",
        "\n",
        "    Dunder methods (short for Double UNDERscore) are special built-in methods in Python.They start and end with two underscores, like __init__, __str__, __len__, etc.These methods let you customize how objects behave — like how they print, compare, add, etc.\n",
        "\n",
        "    Why use Dunder Methods?\n",
        "    They help you make your own objects behave like built-in ones.\n",
        "\n",
        "    Common Dunder Methods with Easy Examples:\n",
        "    1.__init__ → Constructor (runs when object is created)"
      ],
      "metadata": {
        "id": "TngzhIo2912p"
      }
    },
    {
      "cell_type": "code",
      "source": [
        "class Student:\n",
        "    def __init__(self, name):\n",
        "        self.name = name\n",
        "\n",
        "s = Student(\"Karan\")\n",
        "print(s.name)  # Output: Karan\n"
      ],
      "metadata": {
        "id": "gK5ufiOr_J8J"
      },
      "execution_count": null,
      "outputs": []
    },
    {
      "cell_type": "markdown",
      "source": [
        "    2.__str__ → How the object is printed"
      ],
      "metadata": {
        "id": "scpc40QW_POh"
      }
    },
    {
      "cell_type": "code",
      "source": [
        "class Student:\n",
        "    def __init__(self, name):\n",
        "        self.name = name\n",
        "\n",
        "    def __str__(self):\n",
        "        return f\"Student name: {self.name}\"\n",
        "\n",
        "s = Student(\"Karan\")\n",
        "print(s)  # Output: Student name: Karan\n"
      ],
      "metadata": {
        "id": "P3LXtXn9_cOQ"
      },
      "execution_count": null,
      "outputs": []
    },
    {
      "cell_type": "markdown",
      "source": [
        "    3.__len__ → Customize what len() returns\n",
        "\n"
      ],
      "metadata": {
        "id": "vUoEHGDO_oLZ"
      }
    },
    {
      "cell_type": "code",
      "source": [
        "class Book:\n",
        "    def __init__(self, pages):\n",
        "        self.pages = pages\n",
        "\n",
        "    def __len__(self):\n",
        "        return self.pages\n",
        "\n",
        "b = Book(350)\n",
        "print(len(b))  # Output: 350\n"
      ],
      "metadata": {
        "id": "GV70tNGx_s1X"
      },
      "execution_count": null,
      "outputs": []
    },
    {
      "cell_type": "markdown",
      "source": [
        "    4.__add__ → Define behavior for + operator"
      ],
      "metadata": {
        "id": "hH2md925_2W4"
      }
    },
    {
      "cell_type": "code",
      "source": [
        "class Box:\n",
        "    def __init__(self, value):\n",
        "        self.value = value\n",
        "\n",
        "    def __add__(self, other):\n",
        "        return Box(self.value + other.value)\n",
        "\n",
        "    def __str__(self):\n",
        "        return f\"Box({self.value})\"\n",
        "\n",
        "b1 = Box(10)\n",
        "b2 = Box(20)\n",
        "b3 = b1 + b2\n",
        "print(b3)  # Output: Box(30)\n"
      ],
      "metadata": {
        "id": "fWe6iSTXAIY_"
      },
      "execution_count": null,
      "outputs": []
    },
    {
      "cell_type": "markdown",
      "source": [
        " Question 6. Explain the concept of inheritance in OOP.\n",
        "\n",
        "    Inheritance in Object-Oriented Programming (OOP) means one class (child) can take features (methods and attributes) from another class (parent). It helps us reuse code and build a relationship between classes.\n",
        "\n",
        "    Example"
      ],
      "metadata": {
        "id": "4qiQgjUCV43n"
      }
    },
    {
      "cell_type": "code",
      "source": [
        "# Parent class\n",
        "class Animal:\n",
        "    def speak(self):\n",
        "        print(\"Animal speaks\")\n",
        "\n",
        "# Child class inheriting from Animal\n",
        "class Dog(Animal):\n",
        "    def bark(self):\n",
        "        print(\"Dog barks\")\n",
        "\n",
        "# Create an object of Dog\n",
        "d = Dog()\n",
        "d.speak()  # Inherited from Animal\n",
        "d.bark()   # Defined in Dog\n"
      ],
      "metadata": {
        "id": "1YLMrDSxW8V6"
      },
      "execution_count": null,
      "outputs": []
    },
    {
      "cell_type": "markdown",
      "source": [
        "    Output\n",
        "\n",
        "    Animal speaks\n",
        "    Dog barks\n",
        "\n",
        "    Key Points:\n",
        "\n",
        "    Dog class inherits speak() method from Animal.\n",
        "    Dog can use both speak() and its own method bark().\n",
        "    This avoids rewriting the same code again."
      ],
      "metadata": {
        "id": "WGw94ImcXFEf"
      }
    },
    {
      "cell_type": "markdown",
      "source": [
        "Question 8. What is polymorphism in OOP ?\n",
        "\n",
        "    Polymorphism means \"many forms.\" In OOP, it allows different classes to use the same method name but perform different actions.\n",
        "    Polymorphism lets you use one name (like speak()) to call different behaviors, depending on the object’s class."
      ],
      "metadata": {
        "id": "14zDzqSrXg7O"
      }
    },
    {
      "cell_type": "code",
      "source": [
        "class Dog:\n",
        "    def speak(self):\n",
        "        print(\"Dog says Woof!\")\n",
        "\n",
        "class Cat:\n",
        "    def speak(self):\n",
        "        print(\"Cat says Meow!\")\n",
        "\n",
        "# Using polymorphism\n",
        "def animal_sound(animal):\n",
        "    animal.speak()\n",
        "\n",
        "# Create objects\n",
        "d = Dog()\n",
        "c = Cat()\n",
        "\n",
        "animal_sound(d)  # Dog version of speak()\n",
        "animal_sound(c)  # Cat version of speak()\n"
      ],
      "metadata": {
        "id": "UzHDj7rgYl5q"
      },
      "execution_count": null,
      "outputs": []
    },
    {
      "cell_type": "markdown",
      "source": [
        "Output\n",
        "\n",
        "    Dog says Woof!\n",
        "    Cat says Meow!\n"
      ],
      "metadata": {
        "id": "caLQAkbJYnwq"
      }
    },
    {
      "cell_type": "markdown",
      "source": [
        " Question 8. How is encapsulation achieved in Python ?\n",
        "\n",
        "    Encapsulation means hiding the internal details of how something works and only showing what is necessary. It helps keep data safe and controlled.\n",
        "    Encapsulation is wrapping data (variables) and methods (functions) into a single unit (a class) and restricting direct access to some parts of it.\n",
        "\n",
        "    How is Encapsulation done in Python?\n",
        "    \n",
        "    1. Using classes to group data and methods.\n",
        "\n",
        "    2. Making variables private using _ or __."
      ],
      "metadata": {
        "id": "0dt_dqGtZLuK"
      }
    },
    {
      "cell_type": "code",
      "source": [
        "class BankAccount:\n",
        "    def __init__(self, balance):\n",
        "        self.__balance = balance  # Private variable\n",
        "\n",
        "    def deposit(self, amount):\n",
        "        if amount > 0:\n",
        "            self.__balance += amount\n",
        "\n",
        "    def get_balance(self):\n",
        "        return self.__balance\n"
      ],
      "metadata": {
        "id": "pR4XYl2maZks"
      },
      "execution_count": null,
      "outputs": []
    },
    {
      "cell_type": "code",
      "source": [
        "account = BankAccount(1000)\n",
        "account.deposit(500)\n",
        "print(account.get_balance())  # ✅ 1500\n",
        "\n",
        "print(account.__balance)      # ❌ Error: can't access private variable\n"
      ],
      "metadata": {
        "id": "c4T8r9UfacJx"
      },
      "execution_count": null,
      "outputs": []
    },
    {
      "cell_type": "markdown",
      "source": [
        "Output\n",
        "\n",
        "    1500\n",
        "    AttributeError: 'BankAccount' object has no attribute '__balance'\n"
      ],
      "metadata": {
        "id": "2E7ME7BIagBN"
      }
    },
    {
      "cell_type": "markdown",
      "source": [
        "    What's happening:\n",
        "    \n",
        "    __balance is private. It can't be accessed directly from outside the class.\n",
        "\n",
        "    Only methods like deposit() and get_balance() can work with it.\n",
        "\n",
        "    This protects the data from being misused or changed wrongly"
      ],
      "metadata": {
        "id": "g1DPk8kpaq4N"
      }
    },
    {
      "cell_type": "markdown",
      "source": [
        " Question 9. What is a constructor in Python ?\n",
        "\n",
        "    A constructor is a special method in a class that runs automatically when an object is created. It is used to initialize the object’s data (like setting up default values).\n",
        "    A constructor sets up the object when it is created — like giving it a name, age, or any other starting value.\n",
        "\n",
        "    Constructor in Python: __init__()\n",
        "    \n",
        "    Python uses the __init__() method as the constructor.\n",
        "\n",
        "    It runs automatically when you create an object.\n",
        "\n"
      ],
      "metadata": {
        "id": "RZXuKiMFa4EX"
      }
    },
    {
      "cell_type": "code",
      "source": [
        "class Person:\n",
        "    def __init__(self, name, age):\n",
        "        self.name = name   # setting name\n",
        "        self.age = age     # setting age\n",
        "\n",
        "    def show(self):\n",
        "        print(f\"My name is {self.name} and I am {self.age} years old.\")\n",
        "\n",
        "# Creating object\n",
        "p = Person(\"Karan\", 29)\n",
        "p.show()\n"
      ],
      "metadata": {
        "id": "OxCJqWMlbjdT"
      },
      "execution_count": null,
      "outputs": []
    },
    {
      "cell_type": "markdown",
      "source": [
        "Output\n",
        "\n",
        "    My name is Karan and I am 29 years old.\n"
      ],
      "metadata": {
        "id": "zNiVjDuXboyb"
      }
    },
    {
      "cell_type": "markdown",
      "source": [
        " Question 10. What are class and static methods in Python ?\n",
        "\n",
        "    In Python, there are 3 main types of methods in a class:\n",
        "\n",
        "    1. Instance Method → works with object (uses self)\n",
        "\n",
        "    2. Class Method → works with class itself (uses cls)\n",
        "\n",
        "    3. Static Method → general utility, doesn't need self or cls\n",
        "\n",
        "     1. Class Method (@classmethod)\n",
        "     \n",
        "    It works with the class, not the object.\n",
        "\n",
        "    It takes cls as the first argument (not self).\n",
        "\n",
        "    Useful when you want to access or change class-level data.\n",
        "\n",
        "    Example:   "
      ],
      "metadata": {
        "id": "7Vl8r6xeb2P_"
      }
    },
    {
      "cell_type": "code",
      "source": [
        "class Student:\n",
        "    school_name = \"ABC School\"\n",
        "\n",
        "    @classmethod\n",
        "    def change_school(cls, new_name):\n",
        "        cls.school_name = new_name\n",
        "\n",
        "# Change class variable using class method\n",
        "Student.change_school(\"XYZ School\")\n",
        "print(Student.school_name)  # Output: XYZ School\n"
      ],
      "metadata": {
        "id": "IXhZ50z7cuz9"
      },
      "execution_count": null,
      "outputs": []
    },
    {
      "cell_type": "markdown",
      "source": [
        "    2. Static Method (@staticmethod)\n",
        "       It does not take self or cls.\n",
        "\n",
        "       Used for utility functions related to the class but not accessing class or object data.\n",
        "\n",
        "       Example:"
      ],
      "metadata": {
        "id": "0vnwYTR6c2VE"
      }
    },
    {
      "cell_type": "code",
      "source": [
        "class MathTools:\n",
        "    @staticmethod\n",
        "    def add(a, b):\n",
        "        return a + b\n",
        "\n",
        "# Call static method without object\n",
        "print(MathTools.add(10, 5))  # Output: 15\n"
      ],
      "metadata": {
        "id": "H89yCCdedDEH"
      },
      "execution_count": null,
      "outputs": []
    },
    {
      "cell_type": "markdown",
      "source": [
        "Question 11. What is method overloading in Python ?\n",
        "\n",
        "    Method Overloading means having multiple methods with the same name but different parameters (like number or type of arguments).\n",
        "    But in Python, traditional method overloading (like in Java/C++) is not supported directly.\n",
        "    Instead, Python handles it using default arguments, *args, and **kwargs.\n",
        "\n",
        "    Example 1: Using Default Arguments"
      ],
      "metadata": {
        "id": "ZkyZUQD6dGdF"
      }
    },
    {
      "cell_type": "code",
      "source": [
        "class Greet:\n",
        "    def hello(self, name=\"User\"):\n",
        "        print(f\"Hello, {name}!\")\n",
        "\n",
        "# Usage\n",
        "obj = Greet()\n",
        "obj.hello()           # Output: Hello, User!\n",
        "obj.hello(\"Karan\")    # Output: Hello, Karan!\n"
      ],
      "metadata": {
        "id": "iYymu56UnAYu"
      },
      "execution_count": null,
      "outputs": []
    },
    {
      "cell_type": "markdown",
      "source": [
        "Example 2: Using *args (variable-length arguments)"
      ],
      "metadata": {
        "id": "Gd4avy9LnFMp"
      }
    },
    {
      "cell_type": "code",
      "source": [
        "class AddNumbers:\n",
        "    def add(self, *numbers):\n",
        "        print(\"Sum:\", sum(numbers))\n",
        "\n",
        "# Usage\n",
        "obj = AddNumbers()\n",
        "obj.add(5, 10)             # Output: Sum: 15\n",
        "obj.add(1, 2, 3, 4, 5)     # Output: Sum: 15\n"
      ],
      "metadata": {
        "id": "Ej7C6_banHXJ"
      },
      "execution_count": null,
      "outputs": []
    },
    {
      "cell_type": "markdown",
      "source": [
        "Question 12. What is method overriding in OOP ?\n",
        "\n",
        "    Method Overriding means:\n",
        "    When a child class has a method with the same name as a method in the parent class, and it redefines (overrides) the parent's version.\n",
        "    This allows the child class to give its own behavior to the method."
      ],
      "metadata": {
        "id": "mGkwfYVOnfNX"
      }
    },
    {
      "cell_type": "code",
      "source": [
        "class Animal:\n",
        "    def speak(self):\n",
        "        print(\"Animal speaks\")\n",
        "\n",
        "class Dog(Animal):\n",
        "    def speak(self):  # Overriding the parent method\n",
        "        print(\"Dog barks\")\n",
        "\n",
        "# Usage\n",
        "a = Animal()\n",
        "a.speak()    # Output: Animal speaks\n",
        "\n",
        "d = Dog()\n",
        "d.speak()    # Output: Dog barks\n"
      ],
      "metadata": {
        "id": "H8vcgMYQoGoa"
      },
      "execution_count": null,
      "outputs": []
    },
    {
      "cell_type": "markdown",
      "source": [
        "    In this example:\n",
        "\n",
        "    Both Animal and Dog have a speak() method.\n",
        "    Dog overrides the speak() method of Animal to give a new behavior."
      ],
      "metadata": {
        "id": "gtxoBjC0ogh9"
      }
    },
    {
      "cell_type": "markdown",
      "source": [
        "Question 13. What is a property decorator in Python ?\n",
        "\n",
        "    The property decorator in Python is used to turn a method into a read-only attribute. It helps you access methods like variables, without using parentheses ().\n",
        "\n",
        "    Why use property?\n",
        "\n",
        "    It allows you to:\n",
        "\n",
        "    1. Hide internal logic\n",
        "\n",
        "    2. Control access to attributes\n",
        "\n",
        "    3. Make a method look like a simple attribute\n",
        "\n",
        "     Example: Using @property"
      ],
      "metadata": {
        "id": "bvpP42UQoqx8"
      }
    },
    {
      "cell_type": "code",
      "source": [
        " class Person:\n",
        "    def __init__(self, name):\n",
        "        self._name = name   # Private-like variable\n",
        "\n",
        "    @property\n",
        "    def name(self):\n",
        "        return self._name\n",
        "\n",
        "# Usage\n",
        "p = Person(\"Karan\")\n",
        "print(p.name)     # Output: Karan\n",
        "# p.name() → ❌ Not needed like a function\n"
      ],
      "metadata": {
        "id": "fwI3dgm3qRGl"
      },
      "execution_count": null,
      "outputs": []
    },
    {
      "cell_type": "markdown",
      "source": [
        "    Here:\n",
        "\n",
        "    name is a method, but accessed like a variable (p.name)\n",
        "    You can't change it directly unless you also define a setter\n",
        "\n",
        "    Example with Setter (@name.setter)\n",
        "\n"
      ],
      "metadata": {
        "id": "sOQ0Zks5qVUu"
      }
    },
    {
      "cell_type": "code",
      "source": [
        "class Circle:\n",
        "    def __init__(self, radius):\n",
        "        self._radius = radius\n",
        "\n",
        "    @property\n",
        "    def area(self):\n",
        "        return 3.14 * self._radius * self._radius\n",
        "\n",
        "    @property\n",
        "    def radius(self):\n",
        "        return self._radius\n",
        "\n",
        "    @radius.setter\n",
        "    def radius(self, value):\n",
        "        if value > 0:\n",
        "            self._radius = value\n",
        "        else:\n",
        "            print(\"Radius must be positive!\")\n",
        "\n",
        "# Usage\n",
        "c = Circle(5)\n",
        "print(c.area)        # Output: 78.5\n",
        "c.radius = 10        # Valid update\n",
        "print(c.area)        # Output: 314.0\n",
        "c.radius = -4        # Invalid update → Output: Radius must be positive!\n"
      ],
      "metadata": {
        "id": "ccqOt22YqrqS"
      },
      "execution_count": null,
      "outputs": []
    },
    {
      "cell_type": "markdown",
      "source": [
        "Question 14. Why is polymorphism important in OOP ?\n",
        "\n",
        "    Polymorphism means:\n",
        "\n",
        "    \"One name, many forms.\"\n",
        "    You can use the same method name or operator to do different things, depending on the object.\n",
        "\n",
        "    Why is it Important?\n",
        "    \n",
        "    Polymorphism lets you:\n",
        "\n",
        "    1. Write flexible and reusable code\n",
        "\n",
        "    2. Work with different classes using the same interface\n",
        "\n",
        "    3. Add new classes without changing old code\n",
        "    (helps in extending your program easily)\n",
        "\n",
        "    Example: Polymorphism with Inheritance"
      ],
      "metadata": {
        "id": "D9k9y76CqmE5"
      }
    },
    {
      "cell_type": "code",
      "source": [
        "class Animal:\n",
        "    def speak(self):\n",
        "        print(\"Animal speaks\")\n",
        "\n",
        "class Dog(Animal):\n",
        "    def speak(self):\n",
        "        print(\"Dog barks\")\n",
        "\n",
        "class Cat(Animal):\n",
        "    def speak(self):\n",
        "        print(\"Cat meows\")\n",
        "\n",
        "# Polymorphism in action\n",
        "animals = [Dog(), Cat()]\n",
        "\n",
        "for animal in animals:\n",
        "    animal.speak()\n"
      ],
      "metadata": {
        "id": "nRbteBLYr5n2"
      },
      "execution_count": null,
      "outputs": []
    },
    {
      "cell_type": "markdown",
      "source": [
        "    Output:\n",
        "\n",
        "    Dog barks  \n",
        "    Cat meows\n",
        "\n",
        "    Even though we called the same method speak() on different objects, the behavior changed based on the object type."
      ],
      "metadata": {
        "id": "EVZJktl8r-J5"
      }
    },
    {
      "cell_type": "markdown",
      "source": [
        "Question 15. What is an abstract class in Python ?\n",
        "\n",
        "    An abstract class is a class that cannot be directly used to create objects.\n",
        "    It is used as a base (template) for other classes.\n",
        "\n",
        "    It can have:\n",
        "\n",
        "    Abstract methods (methods without body)\n",
        "\n",
        "    Normal methods (optional)\n",
        "\n",
        "    Python uses the abc module to create abstract classes.\n",
        "\n",
        "    Why use Abstract Classes?\n",
        "    \n",
        "    1. To define a common structure for all subclasses\n",
        "\n",
        "    2. To force subclasses to implement certain methods\n",
        "\n",
        "    Example"
      ],
      "metadata": {
        "id": "sXyKK7flsWme"
      }
    },
    {
      "cell_type": "code",
      "source": [
        "from abc import ABC, abstractmethod\n",
        "\n",
        "class Animal(ABC):  # Inheriting from ABC makes it abstract\n",
        "    @abstractmethod\n",
        "    def speak(self):  # Abstract method (no body)\n",
        "        pass\n",
        "\n",
        "class Dog(Animal):\n",
        "    def speak(self):\n",
        "        print(\"Dog barks\")\n",
        "\n",
        "class Cat(Animal):\n",
        "    def speak(self):\n",
        "        print(\"Cat meows\")\n",
        "\n",
        "# Usage\n",
        "d = Dog()\n",
        "d.speak()     # Output: Dog barks\n",
        "\n",
        "c = Cat()\n",
        "c.speak()     # Output: Cat meows\n",
        "\n",
        "# a = Animal()  ❌ Error: Can't create object of abstract class\n"
      ],
      "metadata": {
        "id": "4robwGxWtD-1"
      },
      "execution_count": null,
      "outputs": []
    },
    {
      "cell_type": "markdown",
      "source": [
        "Question 16. What are the advantages of OOP ?\n",
        "\n",
        "    Object-Oriented Programming (OOP) is a way of writing code using classes and objects.\n",
        "    It helps you build better-organized and more reusable programs.\n",
        "\n",
        "    1. Modularity (Code is organized in chunks)\n",
        "    Each class is like a separate unit or block.\n",
        "    This makes your code easier to manage and debug.\n",
        "\n",
        "    Example:"
      ],
      "metadata": {
        "id": "ORs0JlljtNBR"
      }
    },
    {
      "cell_type": "code",
      "source": [
        "class Engine:\n",
        "    def start(self):\n",
        "        print(\"Engine started\")\n",
        "\n",
        "class Car:\n",
        "    def __init__(self):\n",
        "        self.engine = Engine()\n",
        "\n",
        "    def drive(self):\n",
        "        self.engine.start()\n",
        "        print(\"Car is moving\")\n"
      ],
      "metadata": {
        "id": "YsGXUMjGwdfP"
      },
      "execution_count": null,
      "outputs": []
    },
    {
      "cell_type": "markdown",
      "source": [
        "    2.Reusability (Write once, use again)\n",
        "    \n",
        "    You can reuse code through inheritance.\n",
        "\n",
        "    Example:"
      ],
      "metadata": {
        "id": "ZbrP-jK3whTn"
      }
    },
    {
      "cell_type": "code",
      "source": [
        "class Animal:\n",
        "    def eat(self):\n",
        "        print(\"Eating\")\n",
        "\n",
        "class Dog(Animal):  # Inherits from Animal\n",
        "    def bark(self):\n",
        "        print(\"Barking\")\n",
        "\n",
        "d = Dog()\n",
        "d.eat()   # Reused method\n",
        "d.bark()\n"
      ],
      "metadata": {
        "id": "IkmYVbgvwp-u"
      },
      "execution_count": null,
      "outputs": []
    },
    {
      "cell_type": "markdown",
      "source": [
        "    3.Encapsulation (Hide the complexity)\n",
        "    You can hide internal details using private variables and methods.\n",
        "\n",
        "    Example:"
      ],
      "metadata": {
        "id": "MPGUkVwfwwf5"
      }
    },
    {
      "cell_type": "code",
      "source": [
        "class Account:\n",
        "    def __init__(self, balance):\n",
        "        self.__balance = balance  # private variable\n",
        "\n",
        "    def get_balance(self):\n",
        "        return self.__balance\n",
        "\n",
        "a = Account(1000)\n",
        "print(a.get_balance())  # ✅ Safe access\n",
        "# print(a.__balance)    ❌ Error (protected)\n"
      ],
      "metadata": {
        "id": "WHASPGHsw3aJ"
      },
      "execution_count": null,
      "outputs": []
    },
    {
      "cell_type": "markdown",
      "source": [
        "    4. Polymorphism (Same interface, different behavior)\n",
        "    Same method name, but different behavior depending on the object.\n",
        "\n",
        "    Example:"
      ],
      "metadata": {
        "id": "dE183jrzxC_b"
      }
    },
    {
      "cell_type": "code",
      "source": [
        "class Bird:\n",
        "    def sound(self):\n",
        "        print(\"Some bird sound\")\n",
        "\n",
        "class Sparrow(Bird):\n",
        "    def sound(self):\n",
        "        print(\"Chirp chirp\")\n",
        "\n",
        "b = Sparrow()\n",
        "b.sound()  # Output: Chirp chirp\n"
      ],
      "metadata": {
        "id": "ItaOwLnXxKCN"
      },
      "execution_count": null,
      "outputs": []
    },
    {
      "cell_type": "markdown",
      "source": [
        "    5. Scalability and Maintainability\n",
        "    \n",
        "    Adding new features or fixing bugs is easier in OOP because the code is well-organized into classes and objects.\n",
        "\n"
      ],
      "metadata": {
        "id": "D2EU1QNlxOUj"
      }
    },
    {
      "cell_type": "markdown",
      "source": [
        "Question 17. What is the difference between a class variable and an instance variable ?\n",
        "\n",
        "    In Python (and OOP), there are two main types of variables inside a class:\n"
      ],
      "metadata": {
        "id": "cmUyBZLLxdE3"
      }
    },
    {
      "cell_type": "markdown",
      "source": [
        "| Feature        | **Class Variable**            | **Instance Variable**                 |\n",
        "| -------------- | ----------------------------- | ------------------------------------- |\n",
        "| Belongs to     | Class (shared by all objects) | Each object (unique to each instance) |\n",
        "| Defined using  | **Outside** `__init__()`      | **Inside** `__init__()`               |\n",
        "| Changes affect | **All objects**               | **Only that specific object**         |\n"
      ],
      "metadata": {
        "id": "gPO3ZpPnx5GS"
      }
    },
    {
      "cell_type": "markdown",
      "source": [
        "    Example:"
      ],
      "metadata": {
        "id": "1AZblXgQyA5X"
      }
    },
    {
      "cell_type": "code",
      "source": [
        "class Student:\n",
        "    school = \"Green Valley School\"   # Class variable\n",
        "\n",
        "    def __init__(self, name, grade):\n",
        "        self.name = name             # Instance variable\n",
        "        self.grade = grade           # Instance variable\n",
        "\n",
        "# Create two students\n",
        "s1 = Student(\"Karan\", \"8th\")\n",
        "s2 = Student(\"Riya\", \"7th\")\n",
        "\n",
        "print(s1.name)      # Karan\n",
        "print(s2.name)      # Riya\n",
        "\n",
        "print(s1.school)    # Green Valley School\n",
        "print(s2.school)    # Green Valley School\n",
        "\n",
        "# Changing class variable\n",
        "Student.school = \"Blue Star School\"\n",
        "\n",
        "print(s1.school)    # Blue Star School\n",
        "print(s2.school)    # Blue Star School\n",
        "\n",
        "# Changing instance variable\n",
        "s1.name = \"Aman\"\n",
        "print(s1.name)      # Aman\n",
        "print(s2.name)      # Riya\n"
      ],
      "metadata": {
        "id": "8N_6fcp-yDXD"
      },
      "execution_count": null,
      "outputs": []
    },
    {
      "cell_type": "markdown",
      "source": [
        "| Variable Type     | Shared?      | Defined In         | Example Access         |\n",
        "| ----------------- | ------------ | ------------------ | ---------------------- |\n",
        "| Class Variable    | Yes (shared) | Outside `__init__` | `Student.school`       |\n",
        "| Instance Variable | No (unique)  | Inside `__init__`  | `self.name`, `s1.name` |\n"
      ],
      "metadata": {
        "id": "iXqUG_5IyIJb"
      }
    },
    {
      "cell_type": "markdown",
      "source": [
        "Question 18. What is multiple inheritance in Python ?\n",
        "\n",
        "    Multiple Inheritance is a feature in Python where a class can inherit from more than one parent class.\n",
        "    This means a child class can access properties and methods of multiple base classes.\n",
        "    \n",
        "    Why Use Multiple Inheritance?\n",
        "    To combine features from different classes into one child class.\n",
        "\n",
        "    Syntax of Multiple Inheritance"
      ],
      "metadata": {
        "id": "UvCC-CGXyJ3q"
      }
    },
    {
      "cell_type": "code",
      "source": [
        "class Parent1:\n",
        "    # parent1 code\n",
        "\n",
        "class Parent2:\n",
        "    # parent2 code\n",
        "\n",
        "class Child(Parent1, Parent2):\n",
        "    # child class code\n"
      ],
      "metadata": {
        "id": "GGMf7a-xFTg7"
      },
      "execution_count": null,
      "outputs": []
    },
    {
      "cell_type": "markdown",
      "source": [
        "    Simple Example:\n",
        "\n"
      ],
      "metadata": {
        "id": "QZTSRQ3BFatS"
      }
    },
    {
      "cell_type": "code",
      "source": [
        "class Father:\n",
        "    def skills(self):\n",
        "        print(\"Father: Cooking and Driving\")\n",
        "\n",
        "class Mother:\n",
        "    def hobbies(self):\n",
        "        print(\"Mother: Painting and Gardening\")\n",
        "\n",
        "class Child(Father, Mother):\n",
        "    def own_skill(self):\n",
        "        print(\"Child: Programming\")\n",
        "\n",
        "# Create object\n",
        "c = Child()\n",
        "c.skills()       # From Father\n",
        "c.hobbies()      # From Mother\n",
        "c.own_skill()    # From Child\n"
      ],
      "metadata": {
        "id": "2qe8ndmJFfPU"
      },
      "execution_count": null,
      "outputs": []
    },
    {
      "cell_type": "markdown",
      "source": [
        "Output:\n",
        "\n",
        "    Father: Cooking and Driving\n",
        "    Mother: Painting and Gardening\n",
        "    Child: Programming"
      ],
      "metadata": {
        "id": "9H0OkTQDFoaP"
      }
    },
    {
      "cell_type": "markdown",
      "source": [
        "Question 19. Explain the purpose of ‘’__str__’ and ‘__repr__’ ‘ methods in Python.\n",
        "\n",
        "    Both __str__ and __repr__ are special (dunder) methods in Python used to define how an object is displayed as a string.\n",
        "\n",
        "    __str__ → For end users.\n",
        "    Called when you print an object using print().\n",
        "    Should return a readable and user-friendly string.\n",
        "\n",
        "    __repr__ → For developers/debugging.\n",
        "    Called in the Python shell, or when using repr() function.\n",
        "    Should return an unambiguous string that can help recreate the object (if possible).\n",
        "\n",
        "    Example:"
      ],
      "metadata": {
        "id": "OaQAMP-mGDH8"
      }
    },
    {
      "cell_type": "code",
      "source": [
        "class Book:\n",
        "    def __init__(self, title, author):\n",
        "        self.title = title\n",
        "        self.author = author\n",
        "\n",
        "    def __str__(self):\n",
        "        return f\"'{self.title}' by {self.author}\"\n",
        "\n",
        "    def __repr__(self):\n",
        "        return f\"Book('{self.title}', '{self.author}')\"\n",
        "\n",
        "b = Book(\"1984\", \"George Orwell\")\n",
        "\n",
        "print(str(b))   # Uses __str__\n",
        "print(repr(b))  # Uses __repr__\n"
      ],
      "metadata": {
        "id": "EgZo6_ApGyeq"
      },
      "execution_count": null,
      "outputs": []
    },
    {
      "cell_type": "markdown",
      "source": [
        "    Output:"
      ],
      "metadata": {
        "id": "hUp_rSdDG1-k"
      }
    },
    {
      "cell_type": "markdown",
      "source": [
        "    '1984' by George Orwell\n",
        "    Book('1984', 'George Orwell')"
      ],
      "metadata": {
        "id": "RbFefM3EHGd4"
      }
    },
    {
      "cell_type": "markdown",
      "source": [
        "Question 20. What is the significance of the ‘super()’ function in Python ?\n",
        "\n",
        "    The super() function is used to call a method from the parent class (also called the superclass) inside a child class.\n",
        "\n",
        "    Why is super() important?\n",
        "    \n",
        "    1. Reuse code from the parent class\n",
        "    2. Avoid repeating the same logic\n",
        "    3. Useful in inheritance and especially multiple inheritance\n",
        "\n",
        "    Example:"
      ],
      "metadata": {
        "id": "eFx2W8VDIuGu"
      }
    },
    {
      "cell_type": "code",
      "source": [
        "class Animal:\n",
        "    def __init__(self):\n",
        "        print(\"Animal is created\")\n",
        "\n",
        "class Dog(Animal):\n",
        "    def __init__(self):\n",
        "        super().__init__()  # Call parent constructor\n",
        "        print(\"Dog is created\")\n",
        "\n",
        "d = Dog()\n"
      ],
      "metadata": {
        "id": "WHQzGOU6JUHq"
      },
      "execution_count": null,
      "outputs": []
    },
    {
      "cell_type": "markdown",
      "source": [
        "Output:\n",
        "\n",
        "    Animal is created\n",
        "    Dog is created\n",
        "\n",
        "Another Example with Methods:"
      ],
      "metadata": {
        "id": "_gNLLHYUJXKs"
      }
    },
    {
      "cell_type": "code",
      "source": [
        "class Person:\n",
        "    def say_hello(self):\n",
        "        print(\"Hello from Person\")\n",
        "\n",
        "class Student(Person):\n",
        "    def say_hello(self):\n",
        "        super().say_hello()  # Call parent method\n",
        "        print(\"Hello from Student\")\n",
        "\n",
        "s = Student()\n",
        "s.say_hello()\n"
      ],
      "metadata": {
        "id": "LRR2WV_pJiMX"
      },
      "execution_count": null,
      "outputs": []
    },
    {
      "cell_type": "markdown",
      "source": [
        "Output:\n",
        "\n",
        "    Hello from Person\n",
        "    Hello from Student"
      ],
      "metadata": {
        "id": "djZlNzasJli1"
      }
    },
    {
      "cell_type": "markdown",
      "source": [
        "Question 21. What is the significance of the __del__ method in Python ?  \n",
        "\n",
        "    The __del__ method in Python is a destructor. It is called automatically when an object is about to be destroyed, i.e., when it is garbage collected or when the program ends.\n",
        "    \n",
        "    Purpose:To perform cleanup tasks like closing files, releasing resources, or printing a message when an object is deleted.\n",
        "\n",
        "    Syntax:\n",
        "\n",
        "    def __del__(self):\n",
        "    # cleanup code"
      ],
      "metadata": {
        "id": "gQTmp1SGNBBs"
      }
    },
    {
      "cell_type": "markdown",
      "source": [
        "Example:"
      ],
      "metadata": {
        "id": "YG5OarJBQy_S"
      }
    },
    {
      "cell_type": "code",
      "source": [
        "class MyClass:\n",
        "    def __init__(self, name):\n",
        "        self.name = name\n",
        "        print(f\"{self.name} created.\")\n",
        "\n",
        "    def __del__(self):\n",
        "        print(f\"{self.name} destroyed.\")\n",
        "\n",
        "obj = MyClass(\"Object1\")\n",
        "del obj  # Manually deleting the object\n"
      ],
      "metadata": {
        "id": "3fiSWCPuQvih"
      },
      "execution_count": null,
      "outputs": []
    },
    {
      "cell_type": "markdown",
      "source": [
        "Output:\n",
        "\n",
        "    Object1 created.\n",
        "    Object1 destroyed."
      ],
      "metadata": {
        "id": "lwXLHrULQ6gP"
      }
    },
    {
      "cell_type": "markdown",
      "source": [
        " Question 22. What is the difference between @staticmethod and @classmethod in Python ?\n",
        "\n",
        "    @staticmethod – No self, no cls\n",
        "    Behaves like a normal function inside a class.\n",
        "    Doesn’t know anything about the class or object.\n",
        "    Cannot access or change class/object variables.\n",
        "\n",
        "    Example:"
      ],
      "metadata": {
        "id": "i5cEz9GpRJnd"
      }
    },
    {
      "cell_type": "code",
      "source": [
        "class MathTools:\n",
        "    @staticmethod\n",
        "    def add(x, y):\n",
        "        return x + y\n",
        "\n",
        "# Call without creating object\n",
        "print(MathTools.add(5, 3))  # Output: 8\n"
      ],
      "metadata": {
        "id": "ZWiIe_lDSLPm"
      },
      "execution_count": null,
      "outputs": []
    },
    {
      "cell_type": "markdown",
      "source": [
        "    @classmethod – Has cls as first argument\n",
        "    Receives the class (cls) as the first argument.\n",
        "    Can access or modify class-level data.\n",
        "\n",
        "    Example:"
      ],
      "metadata": {
        "id": "2oej0Y21STPF"
      }
    },
    {
      "cell_type": "code",
      "source": [
        "class MyClass:\n",
        "    count = 0\n",
        "\n",
        "    def __init__(self):\n",
        "        MyClass.count += 1\n",
        "\n",
        "    @classmethod\n",
        "    def show_count(cls):\n",
        "        print(\"Total objects created:\", cls.count)\n",
        "\n",
        "# Create objects\n",
        "a = MyClass()\n",
        "b = MyClass()\n",
        "\n",
        "MyClass.show_count()  # Output: Total objects created: 2\n"
      ],
      "metadata": {
        "id": "yySrrOouSeLW"
      },
      "execution_count": null,
      "outputs": []
    },
    {
      "cell_type": "markdown",
      "source": [
        "Question 23. How does polymorphism work in Python with inheritance ?\n",
        "\n",
        "    Polymorphism means \"many forms\" — the same function name can behave differently for different classes.In Python, polymorphism works very well with inheritance. A parent class defines a method, and the child classes override it with their own version.\n",
        "\n",
        "    Example: Polymorphism with Inheritance"
      ],
      "metadata": {
        "id": "Jy6Usd9vSpXG"
      }
    },
    {
      "cell_type": "code",
      "source": [
        "class Animal:\n",
        "    def speak(self):\n",
        "        print(\"Animal speaks\")\n",
        "\n",
        "class Dog(Animal):\n",
        "    def speak(self):\n",
        "        print(\"Dog barks\")\n",
        "\n",
        "class Cat(Animal):\n",
        "    def speak(self):\n",
        "        print(\"Cat meows\")\n",
        "\n",
        "# Polymorphism in action\n",
        "def animal_sound(animal):\n",
        "    animal.speak()  # Same method name, different behavior\n",
        "\n",
        "a = Dog()\n",
        "b = Cat()\n",
        "\n",
        "animal_sound(a)  # Output: Dog barks\n",
        "animal_sound(b)  # Output: Cat meows\n"
      ],
      "metadata": {
        "id": "RFiUt9y-TCOX"
      },
      "execution_count": null,
      "outputs": []
    },
    {
      "cell_type": "markdown",
      "source": [
        "What’s Happening?\n",
        "\n",
        "    The speak() method exists in all classes.\n",
        "    Python dynamically calls the correct version of speak() based on the object type, even if you're using a reference to the parent class.\n",
        "    This is runtime polymorphism — decision is made at runtime"
      ],
      "metadata": {
        "id": "k98_MkA5TLK-"
      }
    },
    {
      "cell_type": "markdown",
      "source": [
        "Question 24. What is method chaining in Python OOP ?\n",
        "\n",
        "    Method chaining means calling multiple methods on the same object in a single line, one after another — like a chain. Each method returns self, so the next method can be called directly.\n",
        "\n",
        "    Syntax:\n",
        "\n",
        "    object.method1().method2().method3()\n"
      ],
      "metadata": {
        "id": "9qzH1HEvTXEq"
      }
    },
    {
      "cell_type": "markdown",
      "source": [
        "Example:"
      ],
      "metadata": {
        "id": "nYULr1snT_yr"
      }
    },
    {
      "cell_type": "code",
      "source": [
        "class Message:\n",
        "    def __init__(self):\n",
        "        self.text = \"\"\n",
        "\n",
        "    def greet(self):\n",
        "        self.text += \"Hello \"\n",
        "        return self\n",
        "\n",
        "    def name(self, n):\n",
        "        self.text += n\n",
        "        return self\n",
        "\n",
        "    def exclaim(self):\n",
        "        self.text += \"!\"\n",
        "        return self\n",
        "\n",
        "    def show(self):\n",
        "        print(self.text)\n",
        "        return self\n",
        "\n",
        "# Method chaining\n",
        "msg = Message()\n",
        "msg.greet().name(\"Karan\").exclaim().show()\n"
      ],
      "metadata": {
        "id": "krCwBZ2oUBzs"
      },
      "execution_count": null,
      "outputs": []
    },
    {
      "cell_type": "markdown",
      "source": [
        "Output:\n",
        "\n",
        "    Hello Karan!"
      ],
      "metadata": {
        "id": "LRXWDjfvUKgT"
      }
    },
    {
      "cell_type": "markdown",
      "source": [
        "How it works:\n",
        "    \n",
        "    Each method modifies self.text and returns self. This lets you chain more methods without breaking the flow\n",
        "\n",
        "Important:\n",
        "\n",
        "    Method chaining only works when methods return self.\n",
        "    If a method returns anything else, chaining will break."
      ],
      "metadata": {
        "id": "441p-FncUTce"
      }
    },
    {
      "cell_type": "markdown",
      "source": [
        "Question 25. What is the purpose of the __call__ method in Python ?\n",
        "\n",
        "    The __call__ method lets an object be called like a function. If a class has a __call__ method, you can \"call\" the object using object() syntax.\n",
        "\n",
        "    Why Use __call__?\n",
        "\n",
        "    To make objects behave like functions.\n",
        "    For flexibility in functional-style code.\n",
        "    Useful in decorators, machine learning models, logging, etc.\n",
        "\n",
        "    Example:"
      ],
      "metadata": {
        "id": "rdYvj5h_UjD7"
      }
    },
    {
      "cell_type": "code",
      "source": [
        "class Greet:\n",
        "    def __init__(self, name):\n",
        "        self.name = name\n",
        "\n",
        "    def __call__(self):\n",
        "        print(f\"Hello, {self.name}!\")\n",
        "\n",
        "# Create object\n",
        "obj = Greet(\"Karan\")\n",
        "\n",
        "# Call the object like a function\n",
        "obj()  # Output: Hello, Karan!\n"
      ],
      "metadata": {
        "id": "wbAEA_lRVI51"
      },
      "execution_count": null,
      "outputs": []
    },
    {
      "cell_type": "markdown",
      "source": [
        "What’s Happening?\n",
        "\n",
        "    obj() calls obj.__call__()\n",
        "    So instead of using obj.__call__(), we just write obj() — more natural and cleaner"
      ],
      "metadata": {
        "id": "8ZIg7OXQVQJt"
      }
    },
    {
      "cell_type": "markdown",
      "source": [
        "# **Practical Questions**"
      ],
      "metadata": {
        "id": "0J4ePB9wflEC"
      }
    },
    {
      "cell_type": "markdown",
      "source": [
        "Question 1. Create a parent class Animal with a method speak() that prints a generic message. Create a child class Dog\n",
        "that overrides the speak() method to print \"Bark!\"."
      ],
      "metadata": {
        "id": "vBCONqreft3w"
      }
    },
    {
      "cell_type": "code",
      "source": [
        "# Parent class\n",
        "class Animal:\n",
        "    def speak(self):\n",
        "        print(\"The animal makes a sound.\")\n",
        "\n",
        "# Child class\n",
        "class Dog(Animal):\n",
        "    def speak(self):\n",
        "        print(\"Bark!\")\n",
        "\n",
        "# Example usage\n",
        "a = Animal()\n",
        "a.speak()  # Output: The animal makes a sound.\n",
        "\n",
        "d = Dog()\n",
        "d.speak()  # Output: Bark!\n"
      ],
      "metadata": {
        "id": "euXNyqk0gCQT"
      },
      "execution_count": null,
      "outputs": []
    },
    {
      "cell_type": "markdown",
      "source": [
        "Explanation:\n",
        "    \n",
        "    Animal is the parent class with a method speak() that prints a generic message.\n",
        "    Dog is a child class that inherits from Animal and overrides the speak() method to give a specific output.\n",
        "    When d.speak() is called on a Dog instance, Python uses the overridden method in the Dog class"
      ],
      "metadata": {
        "id": "GeN9BGo4gEAO"
      }
    },
    {
      "cell_type": "markdown",
      "source": [
        "Question 2. Write a program to create an abstract class Shape with a method area(). Derive classes Circle and Rectangle\n",
        "from it and implement the area() method in both."
      ],
      "metadata": {
        "id": "iSP2WYamgVpW"
      }
    },
    {
      "cell_type": "code",
      "source": [
        "from abc import ABC, abstractmethod\n",
        "import math\n",
        "\n",
        "# Abstract base class\n",
        "class Shape(ABC):\n",
        "    @abstractmethod\n",
        "    def area(self):\n",
        "        pass\n",
        "\n",
        "# Derived class Circle\n",
        "class Circle(Shape):\n",
        "    def __init__(self, radius):\n",
        "        self.radius = radius\n",
        "\n",
        "    def area(self):\n",
        "        return math.pi * self.radius ** 2\n",
        "\n",
        "# Derived class Rectangle\n",
        "class Rectangle(Shape):\n",
        "    def __init__(self, length, width):\n",
        "        self.length = length\n",
        "        self.width = width\n",
        "\n",
        "    def area(self):\n",
        "        return self.length * self.width\n",
        "\n",
        "# Example usage\n",
        "circle = Circle(5)\n",
        "print(\"Area of Circle:\", circle.area())  # Output: Area of Circle: 78.5398...\n",
        "\n",
        "rectangle = Rectangle(4, 6)\n",
        "print(\"Area of Rectangle:\", rectangle.area())  # Output: Area of Rectangle: 24\n"
      ],
      "metadata": {
        "id": "LHt6WYgkggGh"
      },
      "execution_count": null,
      "outputs": []
    },
    {
      "cell_type": "markdown",
      "source": [
        "Explanation:\n",
        "\n",
        "    Shape is an abstract base class with an abstract method area().\n",
        "\n",
        "    Circle and Rectangle are derived from Shape and implement the area() method.\n",
        "\n",
        "    You cannot create an instance of Shape directly since it’s abstract.\n",
        "\n",
        "    The area() method is implemented differently in each subclass according to the shape."
      ],
      "metadata": {
        "id": "eVM4v0TSglKs"
      }
    },
    {
      "cell_type": "markdown",
      "source": [
        " Question 3. Implement a multi-level inheritance scenario where a class Vehicle has an attribute type. Derive a class Car\n",
        "and further derive a class ElectricCar that adds a battery attribute."
      ],
      "metadata": {
        "id": "p7GHkNvAgzr1"
      }
    },
    {
      "cell_type": "code",
      "source": [
        "# Base class\n",
        "class Vehicle:\n",
        "    def __init__(self, vehicle_type):\n",
        "        self.vehicle_type = vehicle_type\n",
        "\n",
        "# Derived class from Vehicle\n",
        "class Car(Vehicle):\n",
        "    def __init__(self, vehicle_type, brand):\n",
        "        super().__init__(vehicle_type)\n",
        "        self.brand = brand\n",
        "\n",
        "# Derived class from Car\n",
        "class ElectricCar(Car):\n",
        "    def __init__(self, vehicle_type, brand, battery_capacity):\n",
        "        super().__init__(vehicle_type, brand)\n",
        "        self.battery_capacity = battery_capacity\n",
        "\n",
        "    def display_info(self):\n",
        "        print(f\"Type: {self.vehicle_type}\")\n",
        "        print(f\"Brand: {self.brand}\")\n",
        "        print(f\"Battery: {self.battery_capacity} kWh\")\n",
        "\n",
        "# Example usage\n",
        "e_car = ElectricCar(\"Four Wheeler\", \"Tesla\", 75)\n",
        "e_car.display_info()\n"
      ],
      "metadata": {
        "id": "YTzshl3Jg77m"
      },
      "execution_count": null,
      "outputs": []
    },
    {
      "cell_type": "markdown",
      "source": [
        "Output:\n",
        "\n",
        "    Type: Four Wheeler\n",
        "    Brand: Tesla\n",
        "    Battery: 75 kWh\n",
        "\n",
        "Explanation:\n",
        "\n",
        "    Vehicle is the base class with an attribute vehicle_type.\n",
        "\n",
        "    Car is derived from Vehicle and adds a brand.\n",
        "\n",
        "    Electric Car is derived from Car and adds a battery_capacity.\n",
        "\n",
        "    This forms a multi-level inheritance chain: Vehicle → Car → ElectricCar.\n",
        "\n",
        "\n",
        "\n",
        "\n",
        "\n",
        "\n",
        "\n",
        "\n",
        "\n"
      ],
      "metadata": {
        "id": "hB-ihapXg_2R"
      }
    },
    {
      "cell_type": "markdown",
      "source": [
        " Question 4. Demonstrate polymorphism by creating a base class Bird with a method fly(). Create two derived classes\n",
        "Sparrow and Penguin that override the fly() method."
      ],
      "metadata": {
        "id": "25eTIhtjjMma"
      }
    },
    {
      "cell_type": "code",
      "source": [
        "# Base class\n",
        "class Bird:\n",
        "    def fly(self):\n",
        "        print(\"The bird is flying.\")\n",
        "\n",
        "# Derived class 1\n",
        "class Sparrow(Bird):\n",
        "    def fly(self):\n",
        "        print(\"Sparrow flies high in the sky.\")\n",
        "\n",
        "# Derived class 2\n",
        "class Penguin(Bird):\n",
        "    def fly(self):\n",
        "        print(\"Penguins cannot fly, they swim.\")\n",
        "\n",
        "# Function to demonstrate polymorphism\n",
        "def show_flight(bird):\n",
        "    bird.fly()\n",
        "\n",
        "# Example usage\n",
        "b1 = Sparrow()\n",
        "b2 = Penguin()\n",
        "\n",
        "show_flight(b1)  # Output: Sparrow flies high in the sky.\n",
        "show_flight(b2)  # Output: Penguins cannot fly, they swim.\n"
      ],
      "metadata": {
        "id": "wSsNRp4ljYa4"
      },
      "execution_count": null,
      "outputs": []
    },
    {
      "cell_type": "markdown",
      "source": [
        "Explanation:\n",
        "\n",
        "    Bird is the base class with a generic fly() method.\n",
        "\n",
        "    Sparrow and Penguin override the fly() method to provide their specific behaviors.\n",
        "\n",
        "    The show_flight() function takes a Bird object and calls its fly() method — this is polymorphism, as the same method call behaves differently depending on the object's class."
      ],
      "metadata": {
        "id": "Jj4JbfMJjeyB"
      }
    },
    {
      "cell_type": "markdown",
      "source": [
        "Question 5. Write a program to demonstrate encapsulation by creating a class BankAccount with private attributes\n",
        "balance and methods to deposit, withdraw, and check balance."
      ],
      "metadata": {
        "id": "Gg3Wf2tVjrHF"
      }
    },
    {
      "cell_type": "code",
      "source": [
        "class BankAccount:\n",
        "    def __init__(self, initial_balance=0):\n",
        "        self.__balance = initial_balance  # Private attribute\n",
        "\n",
        "    def deposit(self, amount):\n",
        "        if amount > 0:\n",
        "            self.__balance += amount\n",
        "            print(f\"Deposited: ₹{amount}\")\n",
        "        else:\n",
        "            print(\"Invalid deposit amount.\")\n",
        "\n",
        "    def withdraw(self, amount):\n",
        "        if 0 < amount <= self.__balance:\n",
        "            self.__balance -= amount\n",
        "            print(f\"Withdrawn: ₹{amount}\")\n",
        "        else:\n",
        "            print(\"Insufficient balance or invalid amount.\")\n",
        "\n",
        "    def check_balance(self):\n",
        "        print(f\"Current Balance: ₹{self.__balance}\")\n",
        "\n",
        "# Example usage\n",
        "account = BankAccount(1000)\n",
        "account.check_balance()     # Output: Current Balance: ₹1000\n",
        "account.deposit(500)        # Output: Deposited: ₹500\n",
        "account.withdraw(300)       # Output: Withdrawn: ₹300\n",
        "account.check_balance()     # Output: Current Balance: ₹1200\n",
        "\n",
        "# Trying to access private variable directly (not recommended)\n",
        "# print(account.__balance)  # This will raise an AttributeError\n"
      ],
      "metadata": {
        "id": "p-byfunmj3PH"
      },
      "execution_count": null,
      "outputs": []
    },
    {
      "cell_type": "markdown",
      "source": [
        "Explanation:\n",
        "\n",
        "    __balance is a private attribute, made private using double underscores __.\n",
        "\n",
        "    Methods deposit(), withdraw(), and check_balance() allow controlled access to modify or view the balance.\n",
        "\n",
        "    This is encapsulation: protecting internal data and exposing only necessary operations to the user.\n",
        "\n",
        "\n",
        "\n",
        "\n",
        "\n",
        "\n",
        "\n",
        "\n"
      ],
      "metadata": {
        "id": "vZ-1pamTj-0a"
      }
    },
    {
      "cell_type": "markdown",
      "source": [
        " Question 6. Demonstrate runtime polymorphism using a method play() in a base class Instrument. Derive classes Guitar\n",
        "and Piano that implement their own version of play()."
      ],
      "metadata": {
        "id": "vtdMPjuHlQ1Y"
      }
    },
    {
      "cell_type": "code",
      "source": [
        "# Base class\n",
        "class Instrument:\n",
        "    def play(self):\n",
        "        print(\"The instrument is playing.\")\n",
        "\n",
        "# Derived class 1\n",
        "class Guitar(Instrument):\n",
        "    def play(self):\n",
        "        print(\"Strumming the guitar strings.\")\n",
        "\n",
        "# Derived class 2\n",
        "class Piano(Instrument):\n",
        "    def play(self):\n",
        "        print(\"Playing the piano keys.\")\n",
        "\n",
        "# Function to demonstrate runtime polymorphism\n",
        "def start_playing(instrument):\n",
        "    instrument.play()\n",
        "\n",
        "# Example usage\n",
        "i1 = Guitar()\n",
        "i2 = Piano()\n",
        "\n",
        "start_playing(i1)  # Output: Strumming the guitar strings.\n",
        "start_playing(i2)  # Output: Playing the piano keys.\n"
      ],
      "metadata": {
        "id": "V0uN_Hp8lZji"
      },
      "execution_count": null,
      "outputs": []
    },
    {
      "cell_type": "markdown",
      "source": [
        "Explanation:\n",
        "\n",
        "    Instrument is the base class with a method play().\n",
        "\n",
        "    Guitar and Piano override the play() method with specific behavior.\n",
        "\n",
        "    The start_playing() function demonstrates runtime polymorphism by calling the overridden method based on the actual object type passed at runtime."
      ],
      "metadata": {
        "id": "3PS4uqqLleCJ"
      }
    },
    {
      "cell_type": "markdown",
      "source": [
        " Question 7. Create a class MathOperations with a class method add_numbers() to add two numbers and a static\n",
        "method subtract_numbers() to subtract two numbers."
      ],
      "metadata": {
        "id": "NXjImRQNlsAN"
      }
    },
    {
      "cell_type": "code",
      "source": [
        "class MathOperations:\n",
        "    # Class method\n",
        "    @classmethod\n",
        "    def add_numbers(cls, a, b):\n",
        "        return a + b\n",
        "\n",
        "    # Static method\n",
        "    @staticmethod\n",
        "    def subtract_numbers(a, b):\n",
        "        return a - b\n",
        "\n",
        "# Example usage\n",
        "sum_result = MathOperations.add_numbers(10, 5)\n",
        "print(\"Sum:\", sum_result)  # Output: Sum: 15\n",
        "\n",
        "difference = MathOperations.subtract_numbers(10, 5)\n",
        "print(\"Difference:\", difference)  # Output: Difference: 5\n"
      ],
      "metadata": {
        "id": "lcQHz7a_lz40"
      },
      "execution_count": null,
      "outputs": []
    },
    {
      "cell_type": "markdown",
      "source": [
        "Explanation:\n",
        "\n",
        "    add_numbers() is a class method, defined using @classmethod. It takes cls as the first argument but doesn’t use it here since it doesn't depend on class attributes.\n",
        "\n",
        "    subtract_numbers() is a static method, defined using @staticmethod, and doesn’t take self or cls.\n",
        "\n",
        "    Both methods perform basic operations but differ in how they relate to the class structure."
      ],
      "metadata": {
        "id": "oCaCM4-Kl5ni"
      }
    },
    {
      "cell_type": "markdown",
      "source": [
        "Question 8. Implement a class Person with a class method to count the total number of persons created."
      ],
      "metadata": {
        "id": "_ylhj0jQn0h7"
      }
    },
    {
      "cell_type": "code",
      "source": [
        "class Person:\n",
        "    count = 0  # Class variable to keep track of number of persons\n",
        "\n",
        "    def __init__(self, name):\n",
        "        self.name = name\n",
        "        Person.count += 1\n",
        "\n",
        "    @classmethod\n",
        "    def total_persons(cls):\n",
        "        return cls.count\n",
        "\n",
        "# Example usage\n",
        "p1 = Person(\"Alice\")\n",
        "p2 = Person(\"Bob\")\n",
        "p3 = Person(\"Charlie\")\n",
        "\n",
        "print(\"Total persons created:\", Person.total_persons())  # Output: Total persons created: 3\n"
      ],
      "metadata": {
        "id": "0L_dxSyloDVD"
      },
      "execution_count": null,
      "outputs": []
    },
    {
      "cell_type": "markdown",
      "source": [
        "Explanation:\n",
        "\n",
        "    count is a class variable shared by all instances.\n",
        "\n",
        "    Each time a Person object is created, count is incremented.\n",
        "\n",
        "    total_persons() is a class method (defined with @classmethod) that returns the current count of person instances."
      ],
      "metadata": {
        "id": "0MKjwkexoNCn"
      }
    },
    {
      "cell_type": "markdown",
      "source": [
        " Question 9. Write a class Fraction with attributes numerator and denominator. Override the str method to display the\n",
        "fraction as \"numerator/denominator\""
      ],
      "metadata": {
        "id": "CuHmhG1iobxt"
      }
    },
    {
      "cell_type": "code",
      "source": [
        "class Fraction:\n",
        "    def __init__(self, numerator, denominator):\n",
        "        self.numerator = numerator\n",
        "        self.denominator = denominator\n",
        "\n",
        "    def __str__(self):\n",
        "        return f\"{self.numerator}/{self.denominator}\"\n",
        "\n",
        "# Example usage\n",
        "f1 = Fraction(3, 4)\n",
        "print(f1)  # Output: 3/4\n",
        "\n",
        "f2 = Fraction(5, 8)\n",
        "print(f2)  # Output: 5/8\n"
      ],
      "metadata": {
        "id": "JS802DpjoqwJ"
      },
      "execution_count": null,
      "outputs": []
    },
    {
      "cell_type": "markdown",
      "source": [
        "Explanation:\n",
        "\n",
        "    The __str__ method is a dunder (double underscore) method that defines how the object is represented as a string.\n",
        "\n",
        "    When print(f1) is called, Python internally uses f1.__str__() to get the string representation."
      ],
      "metadata": {
        "id": "qz7z1WBXozey"
      }
    },
    {
      "cell_type": "markdown",
      "source": [
        " Question 10. Demonstrate operator overloading by creating a class Vector and overriding the add method to add two\n",
        "vectors."
      ],
      "metadata": {
        "id": "TUIwat2RpAZG"
      }
    },
    {
      "cell_type": "code",
      "source": [
        "class Vector:\n",
        "    def __init__(self, x, y):\n",
        "        self.x = x\n",
        "        self.y = y\n",
        "\n",
        "    # Overloading the + operator\n",
        "    def __add__(self, other):\n",
        "        return Vector(self.x + other.x, self.y + other.y)\n",
        "\n",
        "    def __str__(self):\n",
        "        return f\"({self.x}, {self.y})\"\n",
        "\n",
        "# Example usage\n",
        "v1 = Vector(2, 3)\n",
        "v2 = Vector(4, 5)\n",
        "v3 = v1 + v2  # This uses the overloaded __add__ method\n",
        "\n",
        "print(\"Vector 1:\", v1)  # Output: Vector 1: (2, 3)\n",
        "print(\"Vector 2:\", v2)  # Output: Vector 2: (4, 5)\n",
        "print(\"Sum Vector:\", v3)  # Output: Sum Vector: (6, 8)\n"
      ],
      "metadata": {
        "id": "fnItnL3cpQ22"
      },
      "execution_count": null,
      "outputs": []
    },
    {
      "cell_type": "markdown",
      "source": [
        "Explanation:\n",
        "\n",
        "    The __add__ method is overridden to define how + works for Vector objects.\n",
        "\n",
        "    When v1 + v2 is written, it calls v1.__add__(v2) internally.\n",
        "\n",
        "    This is an example of operator overloading, where a built-in operator is redefined for user-defined types."
      ],
      "metadata": {
        "id": "fa0eqs6OpWkB"
      }
    },
    {
      "cell_type": "markdown",
      "source": [
        "Question 11. Create a class Person with attributes name and age. Add a method greet() that prints \"Hello, my name is\n",
        "{name} and I am {age} years old.\""
      ],
      "metadata": {
        "id": "S-Ro2bB3qjlc"
      }
    },
    {
      "cell_type": "code",
      "source": [
        "class Person:\n",
        "    def __init__(self, name, age):\n",
        "        self.name = name\n",
        "        self.age = age\n",
        "\n",
        "    def greet(self):\n",
        "        print(f\"Hello, my name is {self.name} and I am {self.age} years old.\")\n",
        "\n",
        "# Example usage\n",
        "p1 = Person(\"Alice\", 30)\n",
        "p1.greet()  # Output: Hello, my name is Alice and I am 30 years old.\n"
      ],
      "metadata": {
        "id": "qEMrZkdPquaI"
      },
      "execution_count": null,
      "outputs": []
    },
    {
      "cell_type": "markdown",
      "source": [
        "Explanation:\n",
        "\n",
        "    The __init__ method initializes the object with name and age.\n",
        "\n",
        "    The greet() method prints a friendly message using those attributes."
      ],
      "metadata": {
        "id": "cI2YsBXeq5NX"
      }
    },
    {
      "cell_type": "markdown",
      "source": [
        " Question 12. Implement a class Student with attributes name and grades. Create a method average_grade() to compute\n",
        "the average of the grades."
      ],
      "metadata": {
        "id": "7-YIj_GrrRTb"
      }
    },
    {
      "cell_type": "code",
      "source": [
        "class Student:\n",
        "    def __init__(self, name, grades):\n",
        "        self.name = name\n",
        "        self.grades = grades  # grades should be a list of numbers\n",
        "\n",
        "    def average_grade(self):\n",
        "        if not self.grades:\n",
        "            return 0\n",
        "        return sum(self.grades) / len(self.grades)\n",
        "\n",
        "# Example usage\n",
        "s1 = Student(\"Karan\", [85, 90, 78, 92])\n",
        "print(f\"{s1.name}'s average grade is: {s1.average_grade():.2f}\")  # Output: Karan's average grade is: 86.25\n"
      ],
      "metadata": {
        "id": "Fl5Ap2ZXrbEe"
      },
      "execution_count": null,
      "outputs": []
    },
    {
      "cell_type": "markdown",
      "source": [
        "Explanation:\n",
        "\n",
        "    The grades attribute is expected to be a list of numbers.\n",
        "\n",
        "    The average_grade() method calculates the average using sum() and len().\n",
        "\n",
        "    It also handles the case where the grades list is empty by returning 0."
      ],
      "metadata": {
        "id": "46m4rA1vrgF6"
      }
    },
    {
      "cell_type": "markdown",
      "source": [
        " Question 13. Create a class Rectangle with methods set_dimensions() to set the dimensions and area() to calculate the\n",
        "area."
      ],
      "metadata": {
        "id": "cJTNPEi3rq5H"
      }
    },
    {
      "cell_type": "code",
      "source": [
        "class Rectangle:\n",
        "    def __init__(self):\n",
        "        self.length = 0\n",
        "        self.width = 0\n",
        "\n",
        "    def set_dimensions(self, length, width):\n",
        "        self.length = length\n",
        "        self.width = width\n",
        "\n",
        "    def area(self):\n",
        "        return self.length * self.width\n",
        "\n",
        "# Example usage\n",
        "rect = Rectangle()\n",
        "rect.set_dimensions(5, 3)\n",
        "print(\"Area of rectangle:\", rect.area())  # Output: Area of rectangle: 15\n"
      ],
      "metadata": {
        "id": "ZQKavPG2rxkK"
      },
      "execution_count": null,
      "outputs": []
    },
    {
      "cell_type": "markdown",
      "source": [
        "Explanation:\n",
        "\n",
        "    set_dimensions() sets the values of length and width.\n",
        "\n",
        "    area() returns the product of length and width.\n",
        "\n",
        "    This structure keeps the class clean and modular."
      ],
      "metadata": {
        "id": "2-GBPyb4r3XJ"
      }
    },
    {
      "cell_type": "markdown",
      "source": [
        " Question 14. Create a class Employee with a method calculate_salary() that computes the salary based on hours worked\n",
        "and hourly rate. Create a derived class Manager that adds a bonus to the salary."
      ],
      "metadata": {
        "id": "xaxZxcyTsEtp"
      }
    },
    {
      "cell_type": "code",
      "source": [
        "# Base class\n",
        "class Employee:\n",
        "    def __init__(self, name, hours_worked, hourly_rate):\n",
        "        self.name = name\n",
        "        self.hours_worked = hours_worked\n",
        "        self.hourly_rate = hourly_rate\n",
        "\n",
        "    def calculate_salary(self):\n",
        "        return self.hours_worked * self.hourly_rate\n",
        "\n",
        "# Derived class\n",
        "class Manager(Employee):\n",
        "    def __init__(self, name, hours_worked, hourly_rate, bonus):\n",
        "        super().__init__(name, hours_worked, hourly_rate)\n",
        "        self.bonus = bonus\n",
        "\n",
        "    def calculate_salary(self):\n",
        "        base_salary = super().calculate_salary()\n",
        "        return base_salary + self.bonus\n",
        "\n",
        "# Example usage\n",
        "emp = Employee(\"John\", 40, 50)\n",
        "print(f\"{emp.name}'s salary: ₹{emp.calculate_salary()}\")  # Output: John's salary: ₹2000\n",
        "\n",
        "mgr = Manager(\"Alice\", 40, 50, 1000)\n",
        "print(f\"{mgr.name}'s salary: ₹{mgr.calculate_salary()}\")  # Output: Alice's salary: ₹3000\n"
      ],
      "metadata": {
        "id": "onHx8s4PsLn-"
      },
      "execution_count": null,
      "outputs": []
    },
    {
      "cell_type": "markdown",
      "source": [
        "Explanation:\n",
        "\n",
        "    Employee class calculates salary as hours_worked * hourly_rate.\n",
        "\n",
        "    Manager class inherits from Employee and overrides calculate_salary() to add a fixed bonus.\n",
        "\n",
        "    super() is used to call the base class method and extend its functionality."
      ],
      "metadata": {
        "id": "wWAs_eKesWJL"
      }
    },
    {
      "cell_type": "markdown",
      "source": [
        "Question 15. Create a class Product with attributes name, price, and quantity. Implement a method total_price() that\n",
        "calculates the total price of the product."
      ],
      "metadata": {
        "id": "l_vbFDK0sihi"
      }
    },
    {
      "cell_type": "code",
      "source": [
        "class Product:\n",
        "    def __init__(self, name, price, quantity):\n",
        "        self.name = name\n",
        "        self.price = price\n",
        "        self.quantity = quantity\n",
        "\n",
        "    def total_price(self):\n",
        "        return self.price * self.quantity\n",
        "\n",
        "# Example usage\n",
        "p1 = Product(\"Notebook\", 50, 4)\n",
        "print(f\"Product: {p1.name}\")\n",
        "print(f\"Total Price: ₹{p1.total_price()}\")  # Output: Total Price: ₹200\n"
      ],
      "metadata": {
        "id": "IG-aMBIasskm"
      },
      "execution_count": null,
      "outputs": []
    },
    {
      "cell_type": "markdown",
      "source": [
        "Explanation:\n",
        "\n",
        "    The constructor __init__ initializes product details.\n",
        "\n",
        "    total_price() returns the product of price × quantity, representing the total cost of the product."
      ],
      "metadata": {
        "id": "ItvO-QGSsyOK"
      }
    },
    {
      "cell_type": "markdown",
      "source": [
        " Question 16. Create a class Animal with an abstract method sound(). Create two derived classes Cow and Sheep that\n",
        "implement the sound() method."
      ],
      "metadata": {
        "id": "Qz-m_twXvG_7"
      }
    },
    {
      "cell_type": "code",
      "source": [
        "from abc import ABC, abstractmethod\n",
        "\n",
        "# Abstract base class\n",
        "class Animal(ABC):\n",
        "    @abstractmethod\n",
        "    def sound(self):\n",
        "        pass\n",
        "\n",
        "# Derived class Cow\n",
        "class Cow(Animal):\n",
        "    def sound(self):\n",
        "        print(\"Cow says Moo\")\n",
        "\n",
        "# Derived class Sheep\n",
        "class Sheep(Animal):\n",
        "    def sound(self):\n",
        "        print(\"Sheep says Baa\")\n",
        "\n",
        "# Example usage\n",
        "c = Cow()\n",
        "s = Sheep()\n",
        "\n",
        "c.sound()   # Output: Cow says Moo\n",
        "s.sound()   # Output: Sheep says Baa\n"
      ],
      "metadata": {
        "id": "_sX79DdOvPg3"
      },
      "execution_count": null,
      "outputs": []
    },
    {
      "cell_type": "markdown",
      "source": [
        "Explanation:\n",
        "\n",
        "    Animal is an abstract base class (ABC) with an abstract method sound().\n",
        "\n",
        "    Both Cow and Sheep provide their own implementation of sound().\n",
        "\n",
        "    You cannot create an object of Animal directly because it has an abstract method."
      ],
      "metadata": {
        "id": "YHHHlzr8vYlo"
      }
    },
    {
      "cell_type": "markdown",
      "source": [
        "Question 17. Create a class Book with attributes title, author, and year_published. Add a method get_book_info() that\n",
        "returns a formatted string with the book's details."
      ],
      "metadata": {
        "id": "kHkb1sqBvh4m"
      }
    },
    {
      "cell_type": "code",
      "source": [
        "class Book:\n",
        "    def __init__(self, title, author, year_published):\n",
        "        self.title = title\n",
        "        self.author = author\n",
        "        self.year_published = year_published\n",
        "\n",
        "    def get_book_info(self):\n",
        "        return f\"'{self.title}' by {self.author}, published in {self.year_published}\"\n",
        "\n",
        "# Example usage\n",
        "b1 = Book(\"1984\", \"George Orwell\", 1949)\n",
        "print(b1.get_book_info())  # Output: '1984' by George Orwell, published in 1949\n"
      ],
      "metadata": {
        "id": "QUIIogFWvrhC"
      },
      "execution_count": null,
      "outputs": []
    },
    {
      "cell_type": "markdown",
      "source": [
        "Explanation:\n",
        "\n",
        "    The __init__ method initializes the book’s title, author, and year.\n",
        "\n",
        "    The get_book_info() method returns a clean, formatted string describing the book."
      ],
      "metadata": {
        "id": "UIFamfnzvy5T"
      }
    },
    {
      "cell_type": "markdown",
      "source": [
        " Question 18. Create a class House with attributes address and price. Create a derived class Mansion that adds an\n",
        "attribute number_of_rooms."
      ],
      "metadata": {
        "id": "a8NWO9Z9v6Na"
      }
    },
    {
      "cell_type": "code",
      "source": [
        "# Base class\n",
        "class House:\n",
        "    def __init__(self, address, price):\n",
        "        self.address = address\n",
        "        self.price = price\n",
        "\n",
        "# Derived class\n",
        "class Mansion(House):\n",
        "    def __init__(self, address, price, number_of_rooms):\n",
        "        super().__init__(address, price)\n",
        "        self.number_of_rooms = number_of_rooms\n",
        "\n",
        "    def display_info(self):\n",
        "        print(f\"Address: {self.address}\")\n",
        "        print(f\"Price: ₹{self.price}\")\n",
        "        print(f\"Number of Rooms: {self.number_of_rooms}\")\n",
        "\n",
        "# Example usage\n",
        "m1 = Mansion(\"123 Elite Street\", 50000000, 10)\n",
        "m1.display_info()\n"
      ],
      "metadata": {
        "id": "rGao6TuRwAQf"
      },
      "execution_count": null,
      "outputs": []
    },
    {
      "cell_type": "markdown",
      "source": [
        "Output:\n",
        "\n",
        "    Address: 123 Elite Street\n",
        "    Price: ₹50000000\n",
        "    Number of Rooms: 10"
      ],
      "metadata": {
        "id": "9psxJHdYwLX5"
      }
    },
    {
      "cell_type": "markdown",
      "source": [
        "Explanation:\n",
        "\n",
        "    House is the base class with address and price.\n",
        "\n",
        "    Mansion inherits from House and adds number_of_rooms.\n",
        "\n",
        "    super() is used to call the constructor of the base class."
      ],
      "metadata": {
        "id": "laR9wIIfwT1k"
      }
    }
  ]
}